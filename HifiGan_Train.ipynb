{
  "cells": [
    {
      "cell_type": "code",
      "execution_count": null,
      "metadata": {
        "id": "DS9WuYqp6ID6"
      },
      "outputs": [],
      "source": [
        "import os\n",
        "GPU_NAME = os.popen('nvidia-smi --query-gpu=name --format=csv,noheader').read().strip()\n",
        "os.environ['GPU_NAME'] = GPU_NAME\n",
        "print(f'GPU: {GPU_NAME}')"
      ]
    },
    {
      "cell_type": "code",
      "execution_count": null,
      "metadata": {
        "colab": {
          "base_uri": "https://localhost:8080/"
        },
        "id": "076zhCZ_cugr",
        "outputId": "bf77f7b8-4fda-4e66-d3cb-ecc7e4fa88a2"
      },
      "outputs": [
        {
          "name": "stdout",
          "output_type": "stream",
          "text": [
            "Mounted at /content/drive\n"
          ]
        }
      ],
      "source": [
        "from google.colab import drive\n",
        "drive.mount('/content/drive')"
      ]
    },
    {
      "cell_type": "code",
      "execution_count": null,
      "metadata": {
        "id": "Nma_3xEVg-Py"
      },
      "outputs": [],
      "source": [
        "!sudo apt-get update -y\n",
        "!sudo apt-get install python3.8 -y\n",
        "!sudo update-alternatives --install /usr/bin/python3 python3 /usr/bin/python3.8 1"
      ]
    },
    {
      "cell_type": "code",
      "execution_count": null,
      "metadata": {
        "id": "ydUAsrmFh4-z"
      },
      "outputs": [],
      "source": [
        "!sudo apt-get install python3.8-distutils\n",
        "!sudo apt install python3.8-dev"
      ]
    },
    {
      "cell_type": "code",
      "execution_count": null,
      "metadata": {
        "id": "TVjPsUD4h3O-"
      },
      "outputs": [],
      "source": [
        "!python3 --version\n",
        "!sudo apt install python3-pip"
      ]
    },
    {
      "cell_type": "code",
      "execution_count": null,
      "metadata": {
        "id": "AQ5CDwtSho7w"
      },
      "outputs": [],
      "source": [
        "import sys\n",
        "from pathlib import Path"
      ]
    },
    {
      "cell_type": "code",
      "execution_count": null,
      "metadata": {
        "id": "TO7JR7wIi7O_"
      },
      "outputs": [],
      "source": [
        "%cd /content\n",
        "!git clone --depth 1 https://github.com/sce-tts/TTS.git -b sce-tts\n",
        "%cd /content/TTS\n",
        "\n",
        "!pip install scipy==1.5 resampy pandas==1.3.4 matplotlib numpy==1.18.5\n",
        "!pip install --upgrade pip\n",
        "!pip uninstall numba -y\n",
        "!pip uninstall resampy -y\n",
        "!pip install resampy==0.3.1\n",
        "!pip install numba==0.53.0\n",
        "!pip install pydantic==1.10.10\n",
        "!pip install -r requirements.txt\n",
        "!pip install tensorboard\n",
        "!pip install unidecode\n",
        "!sudo apt-get remove python-blinker\n",
        "!pip install --ignore-installed blinker\n",
        "!python setup.py develop\n",
        "\n",
        "%cd /content\n",
        "!git clone --depth 1 https://github.com/sce-tts/TTS.git -b sce-tts\n",
        "%cd /content/TTS\n",
        "\n",
        "!pip install scipy==1.5 resampy pandas==1.3.4 matplotlib numpy==1.18.5\n",
        "!pip install --upgrade pip\n",
        "!pip uninstall numba -y\n",
        "!pip uninstall resampy -y\n",
        "!pip install resampy==0.3.1\n",
        "!pip install numba==0.53.0\n",
        "!pip install pydantic==1.10.10\n",
        "!pip install -r requirements.txt\n",
        "!pip install tensorboard\n",
        "!pip install unidecode\n",
        "!sudo apt-get remove python-blinker\n",
        "!pip install --ignore-installed blinker\n",
        "!python setup.py develop"
      ]
    },
    {
      "cell_type": "code",
      "execution_count": null,
      "metadata": {
        "colab": {
          "base_uri": "https://localhost:8080/"
        },
        "id": "u-NaC2U7k8rx",
        "outputId": "a37aa5f2-0690-4dab-e943-13c5cda43228"
      },
      "outputs": [
        {
          "name": "stdout",
          "output_type": "stream",
          "text": [
            "/content/TTS\n"
          ]
        }
      ],
      "source": [
        "%cd /content/TTS\n",
        "!cp \"/content/drive/My Drive/Colab Notebooks/data/filelists.zip\" ./filelists.zip\n",
        "!rm -rf ./filelists\n",
        "!unzip -q filelists.zip -d ./filelists"
      ]
    },
    {
      "cell_type": "code",
      "source": [
        "mkdir -p \"/home/dowon/min/content/data/hifigan-v2\"\n",
        "cp -R ./hifigan-v2/* \"/home/dowon/min/content/data/hifigan-v2/\""
      ],
      "metadata": {
        "id": "Yv6I9lhbWpmV"
      },
      "execution_count": null,
      "outputs": []
    },
    {
      "cell_type": "code",
      "execution_count": null,
      "metadata": {
        "colab": {
          "base_uri": "https://localhost:8080/"
        },
        "id": "9eb4wwSNlncF",
        "outputId": "adfef4eb-81fa-422c-f2f8-d1f2c8007b64"
      },
      "outputs": [
        {
          "name": "stdout",
          "output_type": "stream",
          "text": [
            "/content/TTS\n"
          ]
        }
      ],
      "source": [
        "%cd /content/TTS\n",
        "!mkdir -p \"/content/drive/My Drive/Colab Notebooks/data/hifigan-v2\"\n",
        "if not Path(\"/content/drive/My Drive/Colab Notebooks/data/hifigan-v2/config.json\").exists():\n",
        "    !gdown --id 1vRxp1RH-U7gSzWgyxnKY4h_7pB3tjPmU -O hifigan-v2.zip\n",
        "    !unzip -q hifigan-v2.zip -d ./\n",
        "    !cp -R ./hifigan-v2/* \"/content/drive/My Drive/Colab Notebooks/data/hifigan-v2/\""
      ]
    },
    {
      "cell_type": "code",
      "execution_count": null,
      "metadata": {
        "id": "nlNwkjcUGVr9"
      },
      "outputs": [],
      "source": [
        "import os\n",
        "import librosa\n",
        "import soundfile as sf\n",
        "\n",
        "# 데이터 폴더 경로\n",
        "data_folder = \"/content/TTS/filelists/filelists/wavs/\"\n",
        "\n",
        "# 데이터 폴더 내의 모든 파일에 대해 변환 수행\n",
        "for filename in os.listdir(data_folder):\n",
        "    if filename.endswith(\".wav\"):  # wav 파일만 변환\n",
        "        file_path = os.path.join(data_folder, filename)\n",
        "\n",
        "        # 음성 파일 읽기 (스테레오로)\n",
        "        y, sr = librosa.load(file_path, sr=None, mono=False)\n",
        "\n",
        "        # 스테레오를 모노로 변환\n",
        "        y_mono = librosa.to_mono(y)\n",
        "\n",
        "        # 변환된 파일 저장\n",
        "        sf.write(file_path, y_mono, sr)\n",
        "        print(f\"{filename} 변환 완료\")"
      ]
    },
    {
      "cell_type": "code",
      "source": [
        "python /home/2020112546/content/TTS/TTS/bin/compute_statistics.py \"/home/2020112546/content/data/hifigan-v2/config.json\" \"/home/2020112546/content/data/hifigan-v2/scale_stats_new.npy\" --data_path \"/home/2020112546/content/TTS/filelists/wavs/\""
      ],
      "metadata": {
        "id": "XFvvKPyo7PtL"
      },
      "execution_count": null,
      "outputs": []
    },
    {
      "cell_type": "code",
      "execution_count": null,
      "metadata": {
        "colab": {
          "base_uri": "https://localhost:8080/"
        },
        "id": "JBUJXJUMlvBm",
        "outputId": "e161d02e-b757-42a4-eba3-6e9704000387"
      },
      "outputs": [
        {
          "name": "stdout",
          "output_type": "stream",
          "text": [
            "/content/TTS\n"
          ]
        }
      ],
      "source": [
        "%cd /content/TTS\n",
        "if not Path(\"/content/drive/My Drive/Colab Notebooks/data/hifigan-v2/scale_stats_new.npy\").exists():\n",
        "    !python TTS/bin/compute_statistics.py \"/content/drive/My Drive/Colab Notebooks/data/hifigan-v2/config.json\" \"/content/drive/My Drive/Colab Notebooks/data/hifigan-v2/scale_stats_new.npy\" --data_path \"/content/TTS/filelists/filelists/wavs/\""
      ]
    },
    {
      "cell_type": "code",
      "execution_count": null,
      "metadata": {
        "id": "b24kep4Xr2Qn"
      },
      "outputs": [],
      "source": [
        "!pip install zipp\n",
        "%load_ext tensorboard\n",
        "%tensorboard --logdir=\"/home/2020112546/content/data/hifigan-v2\""
      ]
    },
    {
      "cell_type": "markdown",
      "metadata": {
        "id": "bY47Dg45sD4V"
      },
      "source": [
        "# **학습 진행**\n"
      ]
    },
    {
      "cell_type": "code",
      "execution_count": null,
      "metadata": {
        "id": "rs9G3RvcsQZS"
      },
      "outputs": [],
      "source": [
        "# 파일 경로 지정\n",
        "file_path = '/home/2020112546/content/TTS/TTS/bin/train_vocoder_gan.py'\n",
        "\n",
        "\n",
        "# 파일 열기 및 읽기\n",
        "with open(file_path, 'r', encoding='utf-8') as f:\n",
        "    lines = f.readlines()\n",
        "\n",
        "# 파일 수정\n",
        "modified_lines = []\n",
        "for i, line in enumerate(lines):\n",
        "    if 'test_sentences_file' in line:\n",
        "        modified_lines.append(line.replace('with open(config.test_sentences_file, \"r\") as f:', 'with open(config.test_sentences_file, \"r\", encoding=\"utf-8\") as f:', 1))\n",
        "    elif 'test_sentences =' in line:\n",
        "        modified_lines.append(line.replace('test_sentences = [s.strip() for s in f.readlines()]', 'test_sentences = [s.strip() for s in f.readlines()]', 1))\n",
        "    else:\n",
        "        modified_lines.append(line)\n",
        "\n",
        "# 수정된 내용으로 파일 저장\n",
        "with open(file_path, 'w', encoding='utf-8') as f:\n",
        "    f.writelines(modified_lines)"
      ]
    },
    {
      "cell_type": "code",
      "source": [
        "python /home/2020112546/content/TTS/TTS/bin/train_vocoder_gan.py \\\n",
        "    --config_path \"/home/2020112546/content/data/hifigan-v2/config.json\" \\\n",
        "    --coqpit.data_path \"/home/2020112546/content/TTS/filelists/wavs\"  \\\n",
        "    --coqpit.audio.stats_path \"/home/2020112546/content/data/hifigan-v2/scale_stats_new.npy\"  \\\n",
        "    --coqpit.output_path \"/home/2020112546/content/data/hifigan-v2/\"  \\\n",
        "    --coqpit.num_loader_workers 2  \\\n",
        "    --coqpit.num_val_loader_workers 2  \\\n",
        "    --restore_path \"/home/2020112546/content/data/hifigan-v2/model_file.pth.tar\""
      ],
      "metadata": {
        "id": "mPj9EJr4sV2S"
      },
      "execution_count": null,
      "outputs": []
    },
    {
      "cell_type": "code",
      "execution_count": null,
      "metadata": {
        "colab": {
          "background_save": true
        },
        "id": "0liLk-HUvbgp"
      },
      "outputs": [],
      "source": [
        "!(python TTS/bin/train_vocoder_gan.py \\\n",
        "    --config_path \"/content/drive/My Drive/Colab Notebooks/data/hifigan-v2/config.json\" \\\n",
        "    --coqpit.data_path \"/content/TTS/filelists/filelists/wavs\"  \\\n",
        "    --coqpit.audio.stats_path \"/content/drive/My Drive/Colab Notebooks/data/hifigan-v2/scale_stats_new.npy\"  \\\n",
        "    --coqpit.output_path \"/content/drive/My Drive/Colab Notebooks/data/hifigan-v2/\"  \\\n",
        "    --coqpit.num_loader_workers 2  \\\n",
        "    --coqpit.num_val_loader_workers 2  \\\n",
        "    --restore_path \"/content/drive/My Drive/Colab Notebooks/data/hifigan-v2/model_file.pth.tar\")"
      ]
    },
    {
      "cell_type": "code",
      "execution_count": null,
      "metadata": {
        "id": "EGivN2tMyCRg"
      },
      "outputs": [],
      "source": [
        "%cd /content/TTS\n",
        "!(python TTS/bin/train_vocoder_gan.py \\\n",
        "  --continue_path \"/content/drive/MyDrive/Colab Notebooks/data/hifigan-v2/hifigan-v2-January-30-2024_12+16PM-3aa165a\")"
      ]
    }
  ],
  "metadata": {
    "accelerator": "GPU",
    "colab": {
      "gpuType": "T4",
      "provenance": []
    },
    "kernelspec": {
      "display_name": "Python 3",
      "name": "python3"
    },
    "language_info": {
      "name": "python"
    }
  },
  "nbformat": 4,
  "nbformat_minor": 0
}