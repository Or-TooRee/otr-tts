{
  "cells": [
    {
      "cell_type": "markdown",
      "metadata": {
        "id": "B9KaDhKOahrW"
      },
      "source": [
        "\n",
        "\n"
      ]
    },
    {
      "cell_type": "code",
      "execution_count": null,
      "metadata": {
        "colab": {
          "base_uri": "https://localhost:8080/"
        },
        "id": "DS9WuYqp6ID6",
        "outputId": "6017a98b-691a-41cb-d0d0-e853f815701d"
      },
      "outputs": [
        {
          "output_type": "stream",
          "name": "stdout",
          "text": [
            "GPU: Tesla T4\n"
          ]
        }
      ],
      "source": [
        "import os\n",
        "GPU_NAME = os.popen('nvidia-smi --query-gpu=name --format=csv,noheader').read().strip()\n",
        "os.environ['GPU_NAME'] = GPU_NAME\n",
        "print(f'GPU: {GPU_NAME}')"
      ]
    },
    {
      "cell_type": "code",
      "execution_count": null,
      "metadata": {
        "colab": {
          "base_uri": "https://localhost:8080/"
        },
        "id": "076zhCZ_cugr",
        "outputId": "13f50dda-a0c9-45e1-a4e1-43fb78e8d0c4"
      },
      "outputs": [
        {
          "output_type": "stream",
          "name": "stdout",
          "text": [
            "Mounted at /content/drive\n"
          ]
        }
      ],
      "source": [
        "from google.colab import drive\n",
        "drive.mount('/content/drive')"
      ]
    },
    {
      "cell_type": "code",
      "execution_count": null,
      "metadata": {
        "id": "Nma_3xEVg-Py"
      },
      "outputs": [],
      "source": [
        "!sudo apt-get update -y\n",
        "!sudo apt-get install python3.8 -y\n",
        "!sudo update-alternatives --install /usr/bin/python3 python3 /usr/bin/python3.8 1"
      ]
    },
    {
      "cell_type": "code",
      "execution_count": null,
      "metadata": {
        "id": "ydUAsrmFh4-z"
      },
      "outputs": [],
      "source": [
        "!sudo apt-get install python3.8-distutils\n",
        "!sudo apt install python3.8-dev"
      ]
    },
    {
      "cell_type": "code",
      "execution_count": null,
      "metadata": {
        "id": "TVjPsUD4h3O-"
      },
      "outputs": [],
      "source": [
        "!python3 --version\n",
        "!sudo apt install python3-pip"
      ]
    },
    {
      "cell_type": "code",
      "execution_count": null,
      "metadata": {
        "id": "AQ5CDwtSho7w"
      },
      "outputs": [],
      "source": [
        "import sys\n",
        "from pathlib import Path"
      ]
    },
    {
      "cell_type": "code",
      "execution_count": null,
      "metadata": {
        "id": "TO7JR7wIi7O_"
      },
      "outputs": [],
      "source": [
        "%cd /content\n",
        "!git clone --depth 1 https://github.com/sce-tts/TTS.git -b sce-tts\n",
        "%cd /content/TTS\n",
        "\n",
        "!pip install scipy==1.5 resampy pandas==1.3.4 matplotlib numpy==1.18.5\n",
        "!pip install --upgrade pip\n",
        "!pip uninstall numba -y\n",
        "!pip uninstall resampy -y\n",
        "!pip install resampy==0.3.1\n",
        "!pip install numba==0.53.0\n",
        "!pip install pydantic==1.10.10\n",
        "!pip install -r requirements.txt\n",
        "!pip install tensorboard\n",
        "!pip install unidecode\n",
        "!sudo apt-get remove python-blinker\n",
        "!pip install --ignore-installed blinker\n",
        "!python setup.py develop\n",
        "\n",
        "%cd /content\n",
        "!git clone --depth 1 https://github.com/sce-tts/TTS.git -b sce-tts\n",
        "%cd /content/TTS\n",
        "\n",
        "!pip install scipy==1.5 resampy pandas==1.3.4 matplotlib numpy==1.18.5\n",
        "!pip install --upgrade pip\n",
        "!pip uninstall numba -y\n",
        "!pip uninstall resampy -y\n",
        "!pip install resampy==0.3.1\n",
        "!pip install numba==0.53.0\n",
        "!pip install pydantic==1.10.10\n",
        "!pip install -r requirements.txt\n",
        "!pip install tensorboard\n",
        "!pip install unidecode\n",
        "!sudo apt-get remove python-blinker\n",
        "!pip install --ignore-installed blinker\n",
        "!python setup.py develop"
      ]
    },
    {
      "cell_type": "code",
      "execution_count": null,
      "metadata": {
        "colab": {
          "base_uri": "https://localhost:8080/"
        },
        "id": "u-NaC2U7k8rx",
        "outputId": "9edde2e8-d669-4c6f-ad87-52eb40ccab1b"
      },
      "outputs": [
        {
          "output_type": "stream",
          "name": "stdout",
          "text": [
            "/content/TTS\n"
          ]
        }
      ],
      "source": [
        "%cd /content/TTS\n",
        "!cp \"/content/drive/My Drive/Colab Notebooks/data/filelists.zip\" ./filelists.zip\n",
        "!rm -rf ./filelists\n",
        "!unzip -q filelists.zip -d ./filelists"
      ]
    },
    {
      "cell_type": "code",
      "execution_count": null,
      "metadata": {
        "colab": {
          "base_uri": "https://localhost:8080/"
        },
        "id": "9eb4wwSNlncF",
        "outputId": "99d4fe9f-620a-40b3-c197-1c6c5599b013"
      },
      "outputs": [
        {
          "output_type": "stream",
          "name": "stdout",
          "text": [
            "/content/TTS\n"
          ]
        }
      ],
      "source": [
        "%cd /content/TTS\n",
        "!mkdir -p \"/content/drive/My Drive/Colab Notebooks/data/glowtts-v2\"\n",
        "if not Path(\"/content/drive/My Drive/Colab Notebooks/data/glowtts-v2/config.json\").exists():\n",
        "    !gdown --id 1DMKLdfZ_gzc_z0qDod6_G8fEXj0zCHvC -O glowtts-v2.zip\n",
        "    !unzip -q glowtts-v2.zip -d ./\n",
        "    !cp -R ./glowtts-v2/* \"/content/drive/My Drive/Colab Notebooks/data/glowtts-v2/\""
      ]
    },
    {
      "cell_type": "code",
      "execution_count": null,
      "metadata": {
        "colab": {
          "base_uri": "https://localhost:8080/"
        },
        "id": "JBUJXJUMlvBm",
        "outputId": "7493400b-aef5-4b85-cadb-c5694fc4396e"
      },
      "outputs": [
        {
          "output_type": "stream",
          "name": "stdout",
          "text": [
            "/content/TTS\n"
          ]
        }
      ],
      "source": [
        "%cd /content/TTS\n",
        "if not Path(\"/content/drive/My Drive/Colab Notebooks/data/glowtts-v2/scale_stats_new.npy\").exists():\n",
        "    !python TTS/bin/compute_statistics.py \"/content/drive/My Drive/Colab Notebooks/data/glowtts-v2/config.json\" \"/content/drive/My Drive/Colab Notebooks/data/glowtts-v2/scale_stats_new.npy\" --data_path \"/content/TTS/filelists/filelists/wavs/\""
      ]
    },
    {
      "cell_type": "code",
      "execution_count": null,
      "metadata": {
        "id": "A-AnRtgrEqcE"
      },
      "outputs": [],
      "source": [
        "with open(\"/content/TTS/test_sentences.txt\", mode=\"w\") as f:\n",
        "    f.write(\"\"\"\n",
        "테이블에 앉으셔도 되고 안쪽으로 들어가 편히 앉으셔도 돼요.\n",
        "닭장 저쪽 구석에서 닭들의 천적인 수리부엉이 한 마리가 닭 한 마리를 낚아채 여유롭게 먹고 있다.\n",
        "당신이 유럽에서 아시아로 삶의 터전을 옮기기에는 위험 부담이 있어요.\n",
        "라마준은 얇은 밀가루 반죽 위에 고기를 얇게 펴서 구워낸 음식입니다.\n",
        "나의 인생은 외곬길이었다.\n",
        "부디 계약 내용을 찬찬히 훑어보시고 서명 후 저희에게 사본을 보내주십시오.\n",
        "\"\"\")"
      ]
    },
    {
      "cell_type": "code",
      "execution_count": null,
      "metadata": {
        "id": "b24kep4Xr2Qn"
      },
      "outputs": [],
      "source": [
        "!pip install zipp\n",
        "%reload_ext tensorboard\n",
        "%tensorboard --logdir=\"/content/drive/My Drive/Colab Notebooks/data/glowtts-v2\""
      ]
    },
    {
      "cell_type": "markdown",
      "metadata": {
        "id": "bY47Dg45sD4V"
      },
      "source": [
        "# **학습 진행**\n",
        "\n"
      ]
    },
    {
      "cell_type": "code",
      "execution_count": null,
      "metadata": {
        "id": "rs9G3RvcsQZS"
      },
      "outputs": [],
      "source": [
        "# 파일 경로 지정\n",
        "file_path = '/content/TTS/TTS/bin/train_glow_tts.py'\n",
        "\n",
        "\n",
        "# 파일 열기 및 읽기\n",
        "with open(file_path, 'r', encoding='utf-8') as f:\n",
        "    lines = f.readlines()\n",
        "\n",
        "# 파일 수정\n",
        "modified_lines = []\n",
        "for i, line in enumerate(lines):\n",
        "    if 'test_sentences_file' in line:\n",
        "        modified_lines.append(line.replace('with open(config.test_sentences_file, \"r\") as f:', 'with open(config.test_sentences_file, \"r\", encoding=\"utf-8\") as f:', 1))\n",
        "    elif 'test_sentences =' in line:\n",
        "        modified_lines.append(line.replace('test_sentences = [s.strip() for s in f.readlines()]', 'test_sentences = [s.strip() for s in f.readlines()]', 1))\n",
        "    else:\n",
        "        modified_lines.append(line)\n",
        "\n",
        "# 수정된 내용으로 파일 저장\n",
        "with open(file_path, 'w', encoding='utf-8') as f:\n",
        "    f.writelines(modified_lines)"
      ]
    },
    {
      "cell_type": "code",
      "execution_count": null,
      "metadata": {
        "colab": {
          "background_save": true
        },
        "id": "0liLk-HUvbgp"
      },
      "outputs": [],
      "source": [
        "!(python TTS/bin/train_glow_tts.py \\\n",
        "    --config_path \"/content/drive/My Drive/Colab Notebooks/data/glowtts-v2/config.json\" \\\n",
        "    --coqpit.datasets.0.path \"/content/TTS/filelists/filelists\"  \\\n",
        "    --coqpit.audio.stats_path \"/content/drive/My Drive/Colab Notebooks/data/glowtts-v2/scale_stats_new.npy\"  \\\n",
        "    --coqpit.test_sentences_file \"/content/TTS/test_sentences.txt\"  \\\n",
        "    --coqpit.output_path \"/content/drive/My Drive/Colab Notebooks/data/glowtts-v2/\"  \\\n",
        "    --coqpit.num_loader_workers 2  \\\n",
        "    --coqpit.num_val_loader_workers 2  \\\n",
        "    --restore_path \"/content/drive/My Drive/Colab Notebooks/data/glowtts-v2/model_file.pth.tar\")"
      ]
    },
    {
      "cell_type": "code",
      "execution_count": null,
      "metadata": {
        "id": "EGivN2tMyCRg"
      },
      "outputs": [],
      "source": [
        "%cd /content/TTS\n",
        "!(python TTS/bin/train_glow_tts.py \\\n",
        "    --continue_path \"/content/drive/MyDrive/Colab Notebooks/data/glowtts-v2/glowtts-v2-August-26-2024_01+16PM-3aa165a\")"
      ]
    },
    {
      "cell_type": "code",
      "execution_count": null,
      "metadata": {
        "id": "wnUt4oi8VlOV"
      },
      "outputs": [],
      "source": [
        "import shutil\n",
        "import os\n",
        "\n",
        "# 삭제할 폴더 경로\n",
        "folder_path = '/content/drive/MyDrive/Colab Notebooks/data/glowtts-v2'\n",
        "\n",
        "# 폴더가 존재하는지 확인 후 삭제\n",
        "if os.path.exists(folder_path):\n",
        "    shutil.rmtree(folder_path)\n",
        "    print(f'{folder_path} has been deleted.')\n",
        "else:\n",
        "    print(f'{folder_path} does not exist.')"
      ]
    }
  ],
  "metadata": {
    "accelerator": "GPU",
    "colab": {
      "gpuType": "T4",
      "provenance": []
    },
    "kernelspec": {
      "display_name": "Python 3",
      "name": "python3"
    },
    "language_info": {
      "name": "python"
    }
  },
  "nbformat": 4,
  "nbformat_minor": 0
}